{
 "cells": [
  {
   "cell_type": "markdown",
   "metadata": {},
   "source": [
    "<div style=\"font-family: 'Times New Roman', serif; text-align: center; margin: auto;\">\n",
    "  <img src=\"https://image-tc.galaxy.tf/wipng-3jcsiz4vzvffnpa7dfizxcdbp/northeastern-university.png\" alt=\"Northeastern University Logo\" style=\"width: 200px; margin-bottom: 1em;\">\n",
    "  <h1 style=\"font-size: 2.5em; margin-bottom: 0.5em;\">Assignment 1</h1>\n",
    "  <h2 style=\"font-size: 1.5em; margin-bottom: 0.3em;\">EAI6010 72035 - Applications of Artificial Intelligence</h2>\n",
    "  <h2 style=\"font-size: 1.5em; margin-bottom: 0.3em;\">Name Surname</h2>\n",
    "  <h3 style=\"font-size: 1.2em; margin-bottom: 0.3em; font-style: italic;\">Lecturer: Prof. Vladimir Shapiro</h3>\n",
    "  <p style=\"font-size: 1em; margin-top: 2em; font-weight: bold; text-align: center;\">Spring Term</p>\n",
    "</div>\n"
   ]
  },
  {
   "cell_type": "markdown",
   "metadata": {},
   "source": [
    "## Table of Contents\n",
    "1. [Introduction](#Introduction)\n",
    "2. [Data Cleaning](#Data-Cleaning)\n",
    "3. [Data Analysis](#Data-Analysis)\n",
    "4. [Results and Discussion](#Results-and-Discussion)\n",
    "5. [Conclusion](#Conclusion)\n",
    "6. [References](#References)"
   ]
  },
  {
   "cell_type": "markdown",
   "metadata": {},
   "source": [
    "## Introduction"
   ]
  },
  {
   "cell_type": "markdown",
   "metadata": {},
   "source": [
    "Etiam ornare porta consectetur. Phasellus imperdiet viverra sapien vel aliquam. Suspendisse sodales, eros quis pretium venenatis, dui nulla hendrerit mauris, a dapibus urna ligula facilisis metus. Curabitur turpis arcu, blandit sed fermentum sit amet, rutrum eget erat. Morbi maximus aliquam malesuada. Aliquam mollis rutrum dignissim. Nunc sed varius magna, id pretium sapien. Nam et justo turpis. Maecenas massa nibh, tristique vitae finibus at, sodales vitae diam. Cras porttitor pellentesque justo eget efficitur. Nunc aliquet consectetur rhoncus. "
   ]
  },
  {
   "cell_type": "markdown",
   "metadata": {},
   "source": [
    "## Data Cleaning"
   ]
  },
  {
   "cell_type": "markdown",
   "metadata": {},
   "source": [
    "Duis eget ipsum ipsum. Fusce sagittis non risus id venenatis. Nulla consectetur ligula vitae vestibulum lacinia. Morbi ut imperdiet magna. Fusce leo mi, efficitur sit amet rutrum sit amet, molestie sed magna. Cras ut sapien ut nisi tempor dapibus sed eu magna. Nunc eleifend aliquet velit, quis malesuada purus tristique id. Suspendisse condimentum, augue eu malesuada euismod, nisl lacus bibendum ligula, a maximus massa justo nec erat. Vivamus ac nunc ac massa venenatis vulputate. Sed sed tempus massa. Nunc feugiat luctus dolor, nec condimentum velit posuere id. Maecenas sed augue vel eros scelerisque luctus a sit amet velit. Nam dui lacus, vulputate bibendum fermentum a, porttitor nec lectus. "
   ]
  },
  {
   "cell_type": "markdown",
   "metadata": {},
   "source": [
    "## Data Analysis"
   ]
  },
  {
   "cell_type": "markdown",
   "metadata": {},
   "source": [
    "Nunc in velit neque. Cras dui nunc, maximus non ornare a, tempor quis lorem. Morbi feugiat sodales magna quis lacinia. Pellentesque porttitor ex id nisi pretium lacinia. Proin nec sapien volutpat, porttitor purus nec, elementum enim. Pellentesque sed metus risus. Class aptent taciti sociosqu ad litora torquent per conubia nostra, per inceptos himenaeos. Donec cursus eleifend neque, id interdum metus eleifend in. "
   ]
  },
  {
   "cell_type": "code",
   "execution_count": 1,
   "metadata": {},
   "outputs": [
    {
     "name": "stdout",
     "output_type": "stream",
     "text": [
      "Guess the number between 1 and 10.\n"
     ]
    },
    {
     "name": "stdin",
     "output_type": "stream",
     "text": [
      "Enter your guess:  5\n"
     ]
    },
    {
     "name": "stdout",
     "output_type": "stream",
     "text": [
      "Incorrect! You have 2 attempts left.\n"
     ]
    },
    {
     "name": "stdin",
     "output_type": "stream",
     "text": [
      "Enter your guess:  7\n"
     ]
    },
    {
     "name": "stdout",
     "output_type": "stream",
     "text": [
      "Incorrect! You have 1 attempt left.\n"
     ]
    },
    {
     "name": "stdin",
     "output_type": "stream",
     "text": [
      "Enter your guess:  9\n"
     ]
    },
    {
     "name": "stdout",
     "output_type": "stream",
     "text": [
      "Incorrect! You have 0 attempts left.\n",
      "Sorry, you've run out of attempts. The number was 2.\n"
     ]
    }
   ],
   "source": [
    "import random\n",
    "\n",
    "def guess_the_number():\n",
    "    number_to_guess = random.randint(1, 10)\n",
    "    print(\"Guess the number between 1 and 10.\")\n",
    "    \n",
    "    attempts = 3  # Allow the user 3 attempts\n",
    "    while attempts > 0:\n",
    "        guess = int(input(\"Enter your guess: \"))  # Get user input\n",
    "        if guess == number_to_guess:\n",
    "            print(\"Congratulations! You guessed the number.\")\n",
    "            return\n",
    "        else:\n",
    "            attempts -= 1\n",
    "            print(f\"Incorrect! You have {attempts} {'attempt' if attempts == 1 else 'attempts'} left.\")\n",
    "    print(f\"Sorry, you've run out of attempts. The number was {number_to_guess}.\")\n",
    "\n",
    "# Call the function to start the game\n",
    "guess_the_number()"
   ]
  },
  {
   "cell_type": "markdown",
   "metadata": {},
   "source": [
    "## Results and Discussion"
   ]
  },
  {
   "cell_type": "markdown",
   "metadata": {},
   "source": [
    " Etiam ornare porta consectetur. Phasellus imperdiet viverra sapien vel aliquam. Suspendisse sodales, eros quis pretium venenatis, dui nulla hendrerit mauris, a dapibus urna ligula facilisis metus. Curabitur turpis arcu, blandit sed fermentum sit amet, rutrum eget erat. Morbi maximus aliquam malesuada. Aliquam mollis rutrum dignissim. Nunc sed varius magna, id pretium sapien. Nam et justo turpis. Maecenas massa nibh, tristique vitae finibus at, sodales vitae diam. Cras porttitor pellentesque justo eget efficitur. Nunc aliquet consectetur rhoncus.\n",
    "\n",
    "Pellentesque at vestibulum augue, non gravida tellus. Quisque semper accumsan nisi laoreet tincidunt. Aliquam non odio lacus. Cras neque massa, pretium eget ante vel, auctor venenatis tellus. Praesent placerat lacus ac ante tempus interdum. Nullam commodo, nibh eu maximus dignissim, tortor tortor dignissim est, nec molestie augue nulla quis felis. Phasellus rutrum consectetur tellus aliquet accumsan. Aenean sodales ligula eget metus aliquet hendrerit. Interdum et malesuada fames ac ante ipsum primis in faucibus. Cras a rutrum nisl. Donec finibus augue a tortor convallis, quis ullamcorper lorem aliquet. "
   ]
  },
  {
   "cell_type": "markdown",
   "metadata": {
    "tags": []
   },
   "source": [
    "<div align=\"center\">\n",
    "  <img src=\"https://www.globalenergyinstitute.org/sites/default/files/2021-04/Blog%20Graph%201%20-%204.16.2021.png\" alt=\"Descriptive text about the image for accessibility.\">\n",
    "  <br>\n",
    "  <p><strong>Figure 1.</strong> Descriptive caption of what the figure represents.</p>\n",
    "</div>"
   ]
  },
  {
   "cell_type": "markdown",
   "metadata": {},
   "source": [
    "## Conclusion"
   ]
  },
  {
   "cell_type": "markdown",
   "metadata": {},
   "source": [
    " Lorem ipsum dolor sit amet, consectetur adipiscing elit. Donec quis lacinia tellus, ut ullamcorper purus. Nam pulvinar leo nisi, quis dignissim dolor dapibus tristique. Phasellus tincidunt risus a lorem fermentum, a blandit elit sodales. Quisque congue magna elit, in aliquet tellus elementum eget. Praesent eu enim a justo vulputate convallis id sed purus. Sed urna mauris, ultricies at justo vitae, posuere luctus lorem. Duis eu urna convallis, tempor neque id, pharetra ex. Suspendisse nec arcu eget lorem facilisis mattis. Aliquam vulputate eget nulla a vehicula. Phasellus luctus, tortor id fermentum laoreet, enim arcu posuere metus, eget accumsan neque elit in dui. Sed vel tristique felis, sed congue erat. Vestibulum mollis metus mi, quis euismod mi aliquam id. Nullam sed porta ligula, non dapibus nunc. Nulla facilisi.\n",
    "\n",
    "Duis eget ipsum ipsum. Fusce sagittis non risus id venenatis. Nulla consectetur ligula vitae vestibulum lacinia. Morbi ut imperdiet magna. Fusce leo mi, efficitur sit amet rutrum sit amet, molestie sed magna. Cras ut sapien ut nisi tempor dapibus sed eu magna. Nunc eleifend aliquet velit, quis malesuada purus tristique id. Suspendisse condimentum, augue eu malesuada euismod, nisl lacus bibendum ligula, a maximus massa justo nec erat. Vivamus ac nunc ac massa venenatis vulputate. Sed sed tempus massa. Nunc feugiat luctus dolor, nec condimentum velit posuere id. Maecenas sed augue vel eros scelerisque luctus a sit amet velit. Nam dui lacus, vulputate bibendum fermentum a, porttitor nec lectus. "
   ]
  },
  {
   "cell_type": "markdown",
   "metadata": {},
   "source": [
    "## References"
   ]
  },
  {
   "cell_type": "markdown",
   "metadata": {},
   "source": [
    "Last, F. M. (Year Published). Book Title. Publisher.\n",
    "\n",
    "Author, A. A., Author, B. B., & Author, C. C. (Year). Title of article. Title of Periodical, volume number(issue number), pages.\n",
    "\n",
    "Author, A. A. (Year, Month Date Published). Title of web page. Name of Website. URL"
   ]
  },
  {
   "cell_type": "code",
   "execution_count": null,
   "metadata": {},
   "outputs": [],
   "source": []
  }
 ],
 "metadata": {
  "kernelspec": {
   "display_name": "Python 3 (ipykernel)",
   "language": "python",
   "name": "python3"
  },
  "language_info": {
   "codemirror_mode": {
    "name": "ipython",
    "version": 3
   },
   "file_extension": ".py",
   "mimetype": "text/x-python",
   "name": "python",
   "nbconvert_exporter": "python",
   "pygments_lexer": "ipython3",
   "version": "3.11.4"
  }
 },
 "nbformat": 4,
 "nbformat_minor": 4
}
